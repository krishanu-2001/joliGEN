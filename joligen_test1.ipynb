{
  "nbformat": 4,
  "nbformat_minor": 0,
  "metadata": {
    "colab": {
      "provenance": [],
      "gpuType": "T4"
    },
    "kernelspec": {
      "name": "python3",
      "display_name": "Python 3"
    },
    "language_info": {
      "name": "python"
    },
    "accelerator": "GPU"
  },
  "cells": [
    {
      "cell_type": "code",
      "execution_count": 1,
      "metadata": {
        "colab": {
          "base_uri": "https://localhost:8080/"
        },
        "id": "GClzXz7_GSEI",
        "outputId": "118ba4f7-de4b-4472-c59b-e66c4e9770c4"
      },
      "outputs": [
        {
          "output_type": "stream",
          "name": "stdout",
          "text": [
            "Cloning into 'joliGEN'...\n",
            "remote: Enumerating objects: 6366, done.\u001b[K\n",
            "remote: Counting objects: 100% (29/29), done.\u001b[K\n",
            "remote: Compressing objects: 100% (22/22), done.\u001b[K\n",
            "remote: Total 6366 (delta 9), reused 12 (delta 7), pack-reused 6337\u001b[K\n",
            "Receiving objects: 100% (6366/6366), 12.98 MiB | 19.98 MiB/s, done.\n",
            "Resolving deltas: 100% (4769/4769), done.\n"
          ]
        }
      ],
      "source": [
        "! git clone https://github.com/jolibrain/joliGEN.git"
      ]
    },
    {
      "cell_type": "markdown",
      "source": [
        "## Fetching the dataset"
      ],
      "metadata": {
        "id": "KmtrjljII9lG"
      }
    },
    {
      "cell_type": "code",
      "source": [
        "! wget https://www.joligen.com/datasets/noglasses2glasses_ffhq.zip\n",
        "! unzip noglasses2glasses_ffhq.zip"
      ],
      "metadata": {
        "id": "iz7SnqfRHDvn"
      },
      "execution_count": null,
      "outputs": []
    },
    {
      "cell_type": "code",
      "source": [
        "%cd joliGEN"
      ],
      "metadata": {
        "id": "kbUiiNmhJDiW"
      },
      "execution_count": null,
      "outputs": []
    },
    {
      "cell_type": "code",
      "source": [
        "! pip install -r requirements.txt"
      ],
      "metadata": {
        "id": "z5ufpOP9Myys"
      },
      "execution_count": null,
      "outputs": []
    },
    {
      "cell_type": "code",
      "source": [
        "mkdir datasets checkpoints"
      ],
      "metadata": {
        "id": "0-YYITPALwOl"
      },
      "execution_count": null,
      "outputs": []
    },
    {
      "cell_type": "code",
      "source": [
        "! mv /content/noglasses2glasses_ffhq /content/joliGEN/datasets/noglasses2glasses_ffhq"
      ],
      "metadata": {
        "id": "Y89nWcqsLjW4"
      },
      "execution_count": null,
      "outputs": []
    },
    {
      "cell_type": "code",
      "source": [
        "!python3 train.py --dataroot datasets/noglasses2glasses_ffhq --checkpoints_dir ./checkpoints/ --name noglasses2glasses --output_display_env noglasses2glasses --config_json examples/example_ddpm_noglasses2glasses.json --output_display_type none"
      ],
      "metadata": {
        "id": "7VlGlXv7L7n9"
      },
      "execution_count": null,
      "outputs": []
    },
    {
      "cell_type": "code",
      "source": [],
      "metadata": {
        "id": "MT5VN5tmNZ8u"
      },
      "execution_count": null,
      "outputs": []
    }
  ]
}